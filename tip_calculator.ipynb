{
 "cells": [
  {
   "cell_type": "code",
   "execution_count": null,
   "metadata": {},
   "outputs": [],
   "source": [
    "bill = float(input(\"What was the total bull? $\"))\n",
    "\n",
    "tip = int(input(\"How much tip would you like to give? 10, 12, or 15?\"))\n",
    "\n",
    "people = int(input(\"How many people to split the bill?\"))\n",
    "\n",
    "bill_with_tip = tip /100 * bill + bill\n",
    "\n",
    "bill_per_person = round(bill_with_tip / people, 2)\n",
    "\n",
    "bill_per_person = \"{:.2f}\".format(bill_with_tip / people)\n",
    "\n",
    "print(f\"Each person should pay: ${bill_per_person}\")"
   ]
  }
 ],
 "metadata": {
  "kernelspec": {
   "display_name": "Python 3",
   "language": "python",
   "name": "python3"
  },
  "language_info": {
   "name": "python",
   "version": "3.11.6"
  }
 },
 "nbformat": 4,
 "nbformat_minor": 2
}
