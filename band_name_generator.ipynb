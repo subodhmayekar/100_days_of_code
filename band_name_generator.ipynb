{
 "cells": [
  {
   "cell_type": "code",
   "execution_count": null,
   "metadata": {},
   "outputs": [],
   "source": [
    "print(\"Welcome to the band name generator.\")    \n",
    "\n",
    "city = input(\"Which city did you grow up in?\\n\")\n",
    "\n",
    "pet = input(\"What is the name of a pet?\\n\")\n",
    "\n",
    "print(\"Your band name could be \" + city + \" \" + pet)"
   ]
  }
 ],
 "metadata": {
  "kernelspec": {
   "display_name": "Python 3",
   "language": "python",
   "name": "python3"
  },
  "language_info": {
   "name": "python",
   "version": "3.11.6"
  }
 },
 "nbformat": 4,
 "nbformat_minor": 2
}
