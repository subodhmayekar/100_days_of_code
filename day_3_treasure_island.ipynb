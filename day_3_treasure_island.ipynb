{
 "cells": [
  {
   "cell_type": "code",
   "execution_count": null,
   "metadata": {},
   "outputs": [],
   "source": [
    "print('''\n",
    "*******************************************************************************\n",
    "          |                   |                  |                     |\n",
    " _________|________________.=\"\"_;=.______________|_____________________|_______\n",
    "|                   |  ,-\"_,=\"\"     `\"=.|                  |\n",
    "|___________________|__\"=._o`\"-._        `\"=.______________|___________________\n",
    "          |                `\"=._o`\"=._      _`\"=._                     |\n",
    " _________|_____________________:=._o \"=._.\"_.-=\"'\"=.__________________|_______\n",
    "|                   |    __.--\" , ; `\"=._o.\" ,-\"\"\"-._ \".   |\n",
    "|___________________|_._\"  ,. .` ` `` ,  `\"-._\"-._   \". '__|___________________\n",
    "          |           |o`\"=._` , \"` `; .\". ,  \"-._\"-._; ;              |\n",
    " _________|___________| ;`-.o`\"=._; .\" ` '`.\"\\` . \"-._ /_______________|_______\n",
    "|                   | |o;    `\"-.o`\"=._``  '` \" ,__.--o;   |\n",
    "|___________________|_| ;     (#) `-.o `\"=.`_.--\"_o.-; ;___|___________________\n",
    "____/______/______/___|o;._    \"      `\".o|o_.--\"    ;o;____/______/______/____\n",
    "/______/______/______/_\"=._o--._        ; | ;        ; ;/______/______/______/_\n",
    "____/______/______/______/__\"=._o--._   ;o|o;     _._;o;____/______/______/____\n",
    "/______/______/______/______/____\"=._o._; | ;_.--\"o.--\"_/______/______/______/_\n",
    "____/______/______/______/______/_____\"=.o|o_.--\"\"___/______/______/______/____\n",
    "/______/______/______/______/______/______/______/______/______/______/_____ /\n",
    "*******************************************************************************\n",
    "''')\n",
    "print(\"Welcome to Treasure Island.\")\n",
    "print(\"Your mission is to find the treasure.\") \n",
    "\n",
    "#https://www.draw.io/?lightbox=1&highlight=0000ff&edit=_blank&layers=1&nav=1&title=Treasure%20Island%20Conditional.drawio#Uhttps%3A%2F%2Fdrive.google.com%2Fuc%3Fid%3D1oDe4ehjWZipYRsVfeAx2HyB7LCQ8_Fvi%26export%3Ddownload\n",
    "\n"
   ]
  },
  {
   "cell_type": "code",
   "execution_count": null,
   "metadata": {},
   "outputs": [],
   "source": [
    "initial_step = input('You\\'re at a crossroad, where do you want to go? Type \"left\" or \"right\"\\n')\n",
    "\n",
    "initial_step_lower = initial_step.lower()\n",
    "\n",
    "if initial_step_lower == \"left\":\n",
    "    #Continue the game\n",
    "    second_step = input('You\\'ve come to a lake. There is an island in the middle of the lake. Type \"wait\" to wait for a boat. Type \"swim\" to swim across.\\n')\n",
    "    second_step_lower = second_step.lower()\n",
    "    if second_step_lower == \"wait\":\n",
    "        #Continue the game\n",
    "        third_step = input(\"You arrive at the island unharmed. There is a house with 3 doors. One red, one yellow and one blue. Which colour do you choose?\\n\")\n",
    "        third_step_lower = third_step.lower()\n",
    "        if third_step == \"yellow\":\n",
    "            print(\"You Win!\")\n",
    "        elif third_step == \"red\":\n",
    "            print(\"You are burned by fire. Game Over\")\n",
    "        elif third_step == \"blue\":\n",
    "            print(\"You are eaten by beasts. Game Over\")\n",
    "        else:\n",
    "            print(\"Game Over\")\n",
    "    else:\n",
    "        print(\"You are attacked by a shark. Game Over.\")\n",
    "else:\n",
    "    print(\"You fall in a ditch. Game Over.\")\n",
    "\n"
   ]
  }
 ],
 "metadata": {
  "kernelspec": {
   "display_name": "Python 3",
   "language": "python",
   "name": "python3"
  },
  "language_info": {
   "name": "python",
   "version": "3.11.6"
  }
 },
 "nbformat": 4,
 "nbformat_minor": 2
}
